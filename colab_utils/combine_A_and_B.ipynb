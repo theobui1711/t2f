{
 "cells": [
  {
   "cell_type": "code",
   "execution_count": 1,
   "metadata": {
    "collapsed": true
   },
   "outputs": [],
   "source": [
    "import os\n",
    "import cv2\n",
    "import numpy as np"
   ]
  },
  {
   "cell_type": "code",
   "execution_count": 3,
   "outputs": [],
   "source": [
    "img_fold_A = os.path.join('data', 'predicted_wb_imgs')\n",
    "img_fold_B = os.path.join('data', 'annotated_imgs')\n",
    "img_fold_AB = os.path.join('data', 'combined_imgs')\n",
    "img_list = os.listdir(img_fold_A)"
   ],
   "metadata": {
    "collapsed": false
   }
  },
  {
   "cell_type": "code",
   "execution_count": 4,
   "outputs": [
    {
     "name": "stdout",
     "output_type": "stream",
     "text": [
      "Processed 100.0% of images\r"
     ]
    }
   ],
   "source": [
    "num_imgs = len(img_list)\n",
    "\n",
    "if not os.path.isdir(img_fold_AB):\n",
    "    os.makedirs(img_fold_AB)\n",
    "\n",
    "for n in range(num_imgs):\n",
    "    name_A = img_list[n]\n",
    "    path_A = os.path.join(img_fold_A, name_A)\n",
    "    name_B = name_A\n",
    "    path_B = os.path.join(img_fold_B, name_B)\n",
    "    if os.path.isfile(path_A) and os.path.isfile(path_B):\n",
    "        name_AB = name_A\n",
    "        path_AB = os.path.join(img_fold_AB, name_AB)\n",
    "        im_A = cv2.imread(path_A, 1)\n",
    "        im_B = cv2.imread(path_B, 1)\n",
    "        im_AB = np.concatenate([im_A, im_B], 1)\n",
    "        cv2.imwrite(path_AB, im_AB)\n",
    "    print(f\"Processed {round((n+1)/num_imgs*100, 2)}% of images\", end='\\r')"
   ],
   "metadata": {
    "collapsed": false
   }
  },
  {
   "cell_type": "code",
   "execution_count": 5,
   "outputs": [],
   "source": [
    "import os\n",
    "import shutil\n",
    "import random\n",
    "\n",
    "# Define the source and destination directories\n",
    "src_dir = 'data/combined_imgs'\n",
    "train_dir = 'data/train'\n",
    "val_dir = 'data/val'\n",
    "\n",
    "# Create the destination directories if they don't exist\n",
    "os.makedirs(train_dir, exist_ok=True)\n",
    "os.makedirs(val_dir, exist_ok=True)\n",
    "\n",
    "# Get a list of all image file names in the source directory\n",
    "file_names = os.listdir(src_dir)\n",
    "\n",
    "# Shuffle the list of file names\n",
    "random.shuffle(file_names)\n",
    "\n",
    "# Split the file names into training and validation sets\n",
    "split_idx = int(0.8 * len(file_names))  # 80% of images for training\n",
    "train_files = file_names[:split_idx]\n",
    "val_files = file_names[split_idx:]\n",
    "\n",
    "# Copy the files to the appropriate destination directories\n",
    "for file_name in train_files:\n",
    "    shutil.copy(os.path.join(src_dir, file_name), os.path.join(train_dir, file_name))\n",
    "\n",
    "for file_name in val_files:\n",
    "    shutil.copy(os.path.join(src_dir, file_name), os.path.join(val_dir, file_name))"
   ],
   "metadata": {
    "collapsed": false
   }
  },
  {
   "cell_type": "code",
   "execution_count": null,
   "outputs": [],
   "source": [],
   "metadata": {
    "collapsed": false
   }
  }
 ],
 "metadata": {
  "kernelspec": {
   "display_name": "Python 3",
   "language": "python",
   "name": "python3"
  },
  "language_info": {
   "codemirror_mode": {
    "name": "ipython",
    "version": 2
   },
   "file_extension": ".py",
   "mimetype": "text/x-python",
   "name": "python",
   "nbconvert_exporter": "python",
   "pygments_lexer": "ipython2",
   "version": "2.7.6"
  }
 },
 "nbformat": 4,
 "nbformat_minor": 0
}
